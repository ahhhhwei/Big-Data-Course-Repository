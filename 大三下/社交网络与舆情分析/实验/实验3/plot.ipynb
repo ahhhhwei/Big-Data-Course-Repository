{
 "cells": [
  {
   "cell_type": "code",
   "execution_count": 4,
   "id": "ae4984c1",
   "metadata": {},
   "outputs": [
    {
     "data": {
      "text/plain": [
       "'program_flowchart.png'"
      ]
     },
     "execution_count": 4,
     "metadata": {},
     "output_type": "execute_result"
    }
   ],
   "source": [
    "from graphviz import Digraph\n",
    "\n",
    "# 创建有向图\n",
    "dot = Digraph()\n",
    "\n",
    "# 添加节点和边\n",
    "connections = {\n",
    "    \".init_proc\": [\"__libc_csu_init\"],\n",
    "    \"sub_400400\": [],\n",
    "    \".printf\": [\"func1\"],\n",
    "    \".__libc_start_main\": [\"_start\"],\n",
    "    \".__gmon_start__\": [\".init_proc\"],\n",
    "    \"_start\": [],\n",
    "    \"deregister_tm_clones\": [\"__do_global_dtors_aux\"],\n",
    "    \"register_tm_clones\": [\"frame_dummy\"],\n",
    "    \"__do_global_dtors_aux\": [],\n",
    "    \"frame_dummy\": [\"__libc_csu_init\"],\n",
    "    \"func1\": [\"func2\"],\n",
    "    \"func2\": [\"func3\"],\n",
    "    \"func3\": [\"main\"],\n",
    "    \"main\": [],\n",
    "    \"__libc_csu_init\": [],\n",
    "    \"__libc_csu_fini\": [],\n",
    "    \".term_proc\": [],\n",
    "    \"printf\": [\".printf\"],\n",
    "    \"__libc_start_main\": [\".__libc_start_main\"],\n",
    "    \"__gmon_start__\": [\".__gmon_start__\"]\n",
    "}\n",
    "\n",
    "for node, edges in connections.items():\n",
    "    dot.node(node)\n",
    "    for edge in edges:\n",
    "        dot.edge(edge, node)  # 反转箭头方向\n",
    "\n",
    "# 保存为图片\n",
    "dot.format = 'png'\n",
    "dot.render('program_flowchart', view=True)\n"
   ]
  },
  {
   "cell_type": "code",
   "execution_count": null,
   "id": "28e2b724",
   "metadata": {},
   "outputs": [],
   "source": []
  }
 ],
 "metadata": {
  "kernelspec": {
   "display_name": "Python 3 (ipykernel)",
   "language": "python",
   "name": "python3"
  },
  "language_info": {
   "codemirror_mode": {
    "name": "ipython",
    "version": 3
   },
   "file_extension": ".py",
   "mimetype": "text/x-python",
   "name": "python",
   "nbconvert_exporter": "python",
   "pygments_lexer": "ipython3",
   "version": "3.9.13"
  }
 },
 "nbformat": 4,
 "nbformat_minor": 5
}
