{
 "cells": [
  {
   "cell_type": "markdown",
   "metadata": {},
   "source": [
    "\n",
    "<h1 align=center><font size = 5> <center>文本分析与挖掘</center> </font></h1> \n",
    "\n",
    "<h2 align=center><font size = 4><center>实验三、新闻数据分类-Part 3</center></font></h2>\n",
    "<h2 align=center><font size = 2><center>浙江工业大学计算机科学与技术学院</center></font></h2>"
   ]
  },
  {
   "cell_type": "markdown",
   "metadata": {},
   "source": [
    "## 实验内容\n",
    "<div class=\"alert alert-block alert-info\" style=\"margin-top: 20px\">\n",
    "<li>新闻数据预处理和词袋表示</li>\n",
    "<li>降维和可视化</li>\n",
    "<li>用朴素贝叶斯算法对新闻数据进行分类</li>\n",
    "<li>不同算法有效性和时间的对比</li>"
   ]
  },
  {
   "cell_type": "markdown",
   "metadata": {},
   "source": [
    "<b> 1.新闻数据预处理和词袋表示</b>"
   ]
  },
  {
   "cell_type": "markdown",
   "metadata": {},
   "source": [
    "<b>a.加载 20newsgroups 数据集，并打印查看其中一个文档（如果太长可以打印部分）。</b>"
   ]
  },
  {
   "cell_type": "code",
   "execution_count": 36,
   "metadata": {
    "ExecuteTime": {
     "end_time": "2023-11-21T01:53:02.394724200Z",
     "start_time": "2023-11-21T01:52:59.424469200Z"
    }
   },
   "outputs": [
    {
     "name": "stdout",
     "output_type": "stream",
     "text": [
      "\n",
      "\n",
      "I am sure some bashers of Pens fans are pretty confused about the lack\n",
      "of any kind of posts about the recent Pens massacre of the Devils. Actually,\n",
      "I am  bit puzzled too and a bit relieved. However, I am going to put an end\n",
      "to non-PIttsburghers' relief with a bit of praise for the Pens. Man, they\n",
      "are killing those Devils worse than I thought. Jagr just showed you why\n",
      "he is much better than his regular season stats. He is also a lot\n",
      "fo fun to watch in the playoffs. Bowman should let JAgr have a lot of\n",
      "fun in the next couple of games since the Pens are going to beat the pulp out of Jersey anyway. I was very disappointed not to see the Islanders lose the final\n",
      "regular season game.          PENS RULE!!!\n",
      "\n",
      "\n"
     ]
    }
   ],
   "source": [
    "import pandas as pd\n",
    "from sklearn.datasets import fetch_20newsgroups\n",
    "\n",
    "# 获取\"20 Newsgroups\"数据集\n",
    "data = fetch_20newsgroups(subset='all', shuffle=True, remove=('headers', 'footers', 'quotes'))\n",
    "\n",
    "# 构建数据集DataFrame\n",
    "corpus = data.data\n",
    "target_labels = data.target\n",
    "target_names = [data.target_names[label] for label in target_labels]\n",
    "\n",
    "data_df = pd.DataFrame({'Article': corpus, 'Target Label': target_labels, 'Target Name': target_names})\n",
    "data_df_org = data_df\n",
    "\n",
    "# 打印其中一个文档\n",
    "article = data_df.loc[0, 'Article']\n",
    "print(article)"
   ]
  },
  {
   "cell_type": "markdown",
   "metadata": {},
   "source": [
    "<b>b.针对以上数据集特点，适当调整和完善 预处理函数EngPreprocess(),对 20newsgroups\n",
    "原始数据进行恰当的预处理，并将预处理后的文档保存到文件；请对每个预处理步骤进行具体描述。<b>"
   ]
  },
  {
   "cell_type": "code",
   "execution_count": 37,
   "metadata": {
    "ExecuteTime": {
     "end_time": "2023-11-21T01:53:03.948227700Z",
     "start_time": "2023-11-21T01:53:02.400725500Z"
    }
   },
   "outputs": [
    {
     "name": "stderr",
     "output_type": "stream",
     "text": [
      "[nltk_data] Downloading package stopwords to\n",
      "[nltk_data]     C:\\Users\\20848\\AppData\\Roaming\\nltk_data...\n",
      "[nltk_data]   Package stopwords is already up-to-date!\n"
     ]
    }
   ],
   "source": [
    "import nltk\n",
    "import spacy\n",
    "from nltk.tokenize.toktok import ToktokTokenizer\n",
    "\n",
    "# 下载nltk停用词\n",
    "nltk.download('stopwords')\n",
    "\n",
    "# 加载英语预训练模型\n",
    "nlp = spacy.load('en_core_web_sm')\n",
    "\n",
    "# 初始化tokenizer和停用词列表\n",
    "tokenizer = ToktokTokenizer()\n",
    "stopword_list = nltk.corpus.stopwords.words('english')\n",
    "\n",
    "# 定义词干提取函数\n",
    "def stem_text(text):\n",
    "    # 初始化Porter词干提取器\n",
    "    ps = nltk.porter.PorterStemmer()\n",
    "    # 使用tokenizer对文本进行分词\n",
    "    tokens = tokenizer.tokenize(text)\n",
    "    # 对每个单词进行词干提取并保存到列表中\n",
    "    stem_token = [ps.stem(token.strip()) for token in tokens]\n",
    "    # 将列表中的单词拼接成新的文本并返回\n",
    "    text = ' '.join(stem_token)\n",
    "    return text\n",
    "\n",
    "# 定义词性还原函数\n",
    "def lemmatize_text(text):\n",
    "    # 使用spacy对文本进行处理\n",
    "    doc = nlp(text)\n",
    "    # 对每个单词进行词性还原，并将结果保存到列表中\n",
    "    lemma_word = [word.lemma_ if word.lemma_ != '-PRON-' else word.text for word in doc]\n",
    "    # 将列表中的单词拼接成新的文本并返回\n",
    "    text = ' '.join(lemma_word)\n",
    "    return text\n",
    "\n",
    "# 定义去停用词函数\n",
    "def remove_stopwords(text, is_lower_case=False):\n",
    "    # 使用tokenizer对文本进行分词\n",
    "    tokens = tokenizer.tokenize(text)\n",
    "    # 去除单词中的多余空格并保存到列表中\n",
    "    tokens = [token.strip() for token in tokens]\n",
    "    # 根据is_lower_case参数选择是否忽略大小写\n",
    "    if is_lower_case:\n",
    "        filtered_tokens = [token for token in tokens if token not in stopword_list]\n",
    "    else:\n",
    "        filtered_tokens = [token for token in tokens if token.lower() not in stopword_list]\n",
    "    # 将过滤后的单词拼接成新的文本并返回\n",
    "    filtered_text = ' '.join(filtered_tokens)\n",
    "    return filtered_text\n",
    "\n",
    "# 定义英语预处理函数\n",
    "def EngPreprocess(corpus, text_stemming=True, text_lemmatization=False, stopword_removal=True, text_lower_case=False):\n",
    "    # 初始化规范化文本列表\n",
    "    normalized_corpus = []\n",
    "    # 对每个文档进行预处理\n",
    "    for doc in corpus:\n",
    "        # 如果text_stemming为True，则进行词干提取\n",
    "        if text_stemming:\n",
    "            doc = stem_text(doc)\n",
    "        # 如果text_lemmatization为True，则进行词性还原\n",
    "        if text_lemmatization:\n",
    "            doc = lemmatize_text(doc)\n",
    "        # 如果stopword_removal为True，则进行去停用词\n",
    "        if stopword_removal:\n",
    "            doc = remove_stopwords(doc, is_lower_case=text_lower_case)\n",
    "        # 将处理后的文档添加到规范化文本列表中\n",
    "        normalized_corpus.append(doc)\n",
    "    # 返回规范化文本列表\n",
    "    return normalized_corpus\n",
    "\n",
    "article_list = data_df['Article'].tolist()\n",
    "article_list = article_list[:1000]\n",
    "\n",
    "# 将预处理后的文档逐行写入到文件中\n",
    "with open('preprocessed_documents.txt', 'w', encoding='utf-8') as file:\n",
    "    for doc in article_list:\n",
    "        file.write(doc + '\\n')"
   ]
  },
  {
   "cell_type": "markdown",
   "metadata": {},
   "source": [
    "<b>c.给出预处理之后的数据统计信息，包括文档数目、词的数目、文档的平均长度等。</b>"
   ]
  },
  {
   "cell_type": "code",
   "execution_count": 38,
   "metadata": {
    "ExecuteTime": {
     "end_time": "2023-11-21T01:53:53.699867Z",
     "start_time": "2023-11-21T01:53:03.948227700Z"
    }
   },
   "outputs": [
    {
     "name": "stdout",
     "output_type": "stream",
     "text": [
      "文档数目: 1000\n",
      "词的数目: 223742\n",
      "文档的平均长度: 223.742\n"
     ]
    }
   ],
   "source": [
    "# 导入所需的库\n",
    "import spacy\n",
    "\n",
    "# 加载spaCy的英文模型\n",
    "nlp = spacy.load('en_core_web_sm')\n",
    "\n",
    "num_documents = 0  # 文档数目\n",
    "total_words = 0  # 所有文档中词的总数\n",
    "for doc in article_list:\n",
    "    processed_doc = nlp(doc)\n",
    "    total_words += len(processed_doc)\n",
    "    num_documents += 1\n",
    "\n",
    "average_length = total_words / num_documents  # 文档的平均长度\n",
    "\n",
    "# 打印统计信息\n",
    "print(\"文档数目:\", num_documents)\n",
    "print(\"词的数目:\", total_words)\n",
    "print(\"文档的平均长度:\", average_length)"
   ]
  },
  {
   "cell_type": "markdown",
   "metadata": {},
   "source": [
    "<b>d.读入预处理完的文档数据，进行词袋表示，得到基于词频的和TF-IDF 的两种数据矩阵。</b>"
   ]
  },
  {
   "cell_type": "code",
   "execution_count": 39,
   "metadata": {
    "ExecuteTime": {
     "end_time": "2023-11-21T01:53:54.288532700Z",
     "start_time": "2023-11-21T01:53:54.035475200Z"
    }
   },
   "outputs": [
    {
     "name": "stdout",
     "output_type": "stream",
     "text": [
      "基于词频的词袋表示矩阵形状: (1000, 18367)\n",
      "  (0, 1887)\t3\n",
      "  (0, 15973)\t1\n",
      "  (0, 15314)\t1\n",
      "  (0, 2700)\t1\n",
      "  (0, 11793)\t8\n",
      "  (0, 12405)\t5\n",
      "  (0, 6864)\t1\n",
      "  (0, 2205)\t3\n",
      "  (0, 12989)\t1\n",
      "  (0, 4427)\t1\n",
      "  (0, 1421)\t2\n",
      "  (0, 16352)\t10\n",
      "  (0, 9811)\t1\n",
      "  (0, 2066)\t1\n",
      "  (0, 9671)\t1\n",
      "  (0, 12824)\t1\n",
      "  (0, 13652)\t1\n",
      "  (0, 10586)\t1\n",
      "  (0, 5475)\t2\n",
      "  (0, 1549)\t1\n",
      "  (0, 2965)\t3\n",
      "  (0, 13345)\t1\n",
      "  (0, 16587)\t1\n",
      "  (0, 1976)\t1\n",
      "  (0, 13854)\t1\n",
      "  :\t:\n",
      "  (999, 1886)\t2\n",
      "  (999, 8463)\t2\n",
      "  (999, 17717)\t3\n",
      "  (999, 6175)\t1\n",
      "  (999, 4050)\t1\n",
      "  (999, 4947)\t1\n",
      "  (999, 15099)\t1\n",
      "  (999, 17829)\t1\n",
      "  (999, 7283)\t3\n",
      "  (999, 12658)\t5\n",
      "  (999, 11688)\t3\n",
      "  (999, 3611)\t1\n",
      "  (999, 4992)\t1\n",
      "  (999, 7389)\t3\n",
      "  (999, 5981)\t1\n",
      "  (999, 6595)\t1\n",
      "  (999, 12784)\t1\n",
      "  (999, 11475)\t1\n",
      "  (999, 13457)\t1\n",
      "  (999, 6694)\t1\n",
      "  (999, 12917)\t1\n",
      "  (999, 16393)\t1\n",
      "  (999, 5044)\t1\n",
      "  (999, 13481)\t1\n",
      "  (999, 4549)\t1\n",
      "基于TF-IDF的表示矩阵形状: (1000, 18367)\n",
      "  (0, 14359)\t0.08541356706305611\n",
      "  (0, 7467)\t0.07151789638446594\n",
      "  (0, 7051)\t0.07902839174544544\n",
      "  (0, 10248)\t0.08298603607125657\n",
      "  (0, 9269)\t0.09390156537397062\n",
      "  (0, 14701)\t0.052666979154913966\n",
      "  (0, 11640)\t0.030272001166723128\n",
      "  (0, 5623)\t0.10724462566848421\n",
      "  (0, 17459)\t0.04628180383730329\n",
      "  (0, 17703)\t0.035586526796146156\n",
      "  (0, 2073)\t0.06645366822212877\n",
      "  (0, 9386)\t0.10724462566848421\n",
      "  (0, 12055)\t0.04041542583603933\n",
      "  (0, 13290)\t0.11362980098609486\n",
      "  (0, 2763)\t0.0992002561302709\n",
      "  (0, 15073)\t0.05385927226653023\n",
      "  (0, 7468)\t0.0738551819717329\n",
      "  (0, 4747)\t0.07323754280979887\n",
      "  (0, 11523)\t0.06855649121543263\n",
      "  (0, 8145)\t0.027519992891158303\n",
      "  (0, 10028)\t0.05764096191271857\n",
      "  (0, 14975)\t0.04661334829346818\n",
      "  (0, 3172)\t0.10724462566848421\n",
      "  (0, 12676)\t0.086783803084838\n",
      "  (0, 8780)\t0.04714685369860591\n",
      "  :\t:\n",
      "  (999, 7617)\t0.04355911146127666\n",
      "  (999, 2385)\t0.10484864016117751\n",
      "  (999, 2290)\t0.06838356850181106\n",
      "  (999, 7368)\t0.03494954672039251\n",
      "  (999, 3500)\t0.033562661457389564\n",
      "  (999, 11876)\t0.03716361274035188\n",
      "  (999, 16384)\t0.036185290452195776\n",
      "  (999, 5786)\t0.0755361589862637\n",
      "  (999, 3412)\t0.03692802643191635\n",
      "  (999, 3389)\t0.030940032462583342\n",
      "  (999, 9292)\t0.02486071776533229\n",
      "  (999, 17816)\t0.03734258731633694\n",
      "  (999, 14701)\t0.05396994500772641\n",
      "  (999, 11640)\t0.03102092173231168\n",
      "  (999, 8780)\t0.04831325324197322\n",
      "  (999, 9260)\t0.04799683157961133\n",
      "  (999, 17860)\t0.05299162271957031\n",
      "  (999, 18298)\t0.05887738778758682\n",
      "  (999, 17956)\t0.029292322137246755\n",
      "  (999, 16547)\t0.020774436299743102\n",
      "  (999, 8487)\t0.05883807988084064\n",
      "  (999, 1976)\t0.021567154357636214\n",
      "  (999, 16352)\t0.0576564262159868\n",
      "  (999, 11793)\t0.04489687385171971\n",
      "  (999, 15314)\t0.038916677827056136\n"
     ]
    }
   ],
   "source": [
    "from sklearn.feature_extraction.text import CountVectorizer, TfidfVectorizer\n",
    "\n",
    "documents = article_list\n",
    "\n",
    "# 基于词频的词袋表示\n",
    "count_vectorizer = CountVectorizer()\n",
    "count_matrix = count_vectorizer.fit_transform(documents)\n",
    "\n",
    "# 基于TF-IDF的表示\n",
    "tfidf_vectorizer = TfidfVectorizer()\n",
    "tfidf_matrix = tfidf_vectorizer.fit_transform(documents)\n",
    "\n",
    "# 打印词袋表示和TF-IDF表示的矩阵形状\n",
    "print(\"基于词频的词袋表示矩阵形状:\", count_matrix.shape)\n",
    "print(count_matrix)\n",
    "print(\"基于TF-IDF的表示矩阵形状:\", tfidf_matrix.shape)\n",
    "print(tfidf_matrix)"
   ]
  },
  {
   "cell_type": "markdown",
   "metadata": {},
   "source": [
    "<b> 2.降维和可视化</b>"
   ]
  },
  {
   "cell_type": "markdown",
   "metadata": {},
   "source": [
    "<b>a.对基于 TF-IDF 的数据矩阵进行 PCA 降维，得到二维表示。"
   ]
  },
  {
   "cell_type": "code",
   "execution_count": 40,
   "metadata": {
    "ExecuteTime": {
     "end_time": "2023-11-21T01:53:55.229544400Z",
     "start_time": "2023-11-21T01:53:54.289532600Z"
    }
   },
   "outputs": [],
   "source": [
    "from sklearn.decomposition import PCA\n",
    "\n",
    "# 初始化PCA模型，设置目标维度为2\n",
    "pca = PCA(n_components=2)\n",
    "\n",
    "# 对TF-IDF矩阵进行降维\n",
    "tv_pca = pca.fit_transform(tfidf_matrix[:1000][:1000].toarray())"
   ]
  },
  {
   "cell_type": "markdown",
   "metadata": {},
   "source": [
    "<b>b. 打印二维表示散点图（用不同颜色代表真实类别标签），观察并\n",
    "讨论该新闻数据的分布情况。"
   ]
  },
  {
   "cell_type": "code",
   "execution_count": 41,
   "metadata": {
    "ExecuteTime": {
     "end_time": "2023-11-21T01:53:55.786435900Z",
     "start_time": "2023-11-21T01:53:55.231540600Z"
    }
   },
   "outputs": [
    {
     "data": {
      "image/png": "[encoded data removed]",
      "text/plain": [
       "<Figure size 640x480 with 1 Axes>"
      ]
     },
     "metadata": {},
     "output_type": "display_data"
    }
   ],
   "source": [
    "import matplotlib.pyplot as plt\n",
    "\n",
    "# 创建散点图\n",
    "plt.scatter(tv_pca[:, 0], tv_pca[:, 1], c = data_df['Target Label'][:1000], cmap='viridis')\n",
    "# 添加标题和轴标签\n",
    "plt.title('TF-IDF PCA Scatter Plot')\n",
    "plt.xlabel('PC1')\n",
    "plt.ylabel('PC2')\n",
    "\n",
    "# 显示图形\n",
    "plt.show()"
   ]
  },
  {
   "cell_type": "markdown",
   "metadata": {},
   "source": [
    "<b>3.用朴素贝叶斯算法对新闻数据进行分类"
   ]
  },
  {
   "cell_type": "markdown",
   "metadata": {},
   "source": [
    "<b>a.用朴素贝叶斯算法对基于 Part1 中得到的词频表示的新闻数据进行分类，得到 5 折交叉验证的准确率（Accuracy）。"
   ]
  },
  {
   "cell_type": "code",
   "execution_count": 42,
   "metadata": {
    "ExecuteTime": {
     "end_time": "2023-11-21T01:53:55.952473300Z",
     "start_time": "2023-11-21T01:53:55.787436500Z"
    }
   },
   "outputs": [],
   "source": [
    "import numpy as np\n",
    "from sklearn.model_selection import train_test_split\n",
    "from sklearn.feature_extraction.text import CountVectorizer\n",
    "\n",
    "# 划分训练集和测试集\n",
    "train_corpus, test_corpus, train_label_nums, test_label_nums, train_label_names, test_label_names = train_test_split(\n",
    "    np.array(data_df['Article']),\n",
    "    data_df['Target Label'],\n",
    "    data_df['Target Name'],\n",
    "    test_size=0.33,\n",
    "    random_state=42\n",
    ")\n",
    "\n",
    "# 基于词频的词袋表示\n",
    "cv = CountVectorizer(min_df=0.0, max_df=1.0)\n",
    "cv_train_features = cv.fit_transform(train_corpus)\n",
    "cv_test_features = cv.transform(test_corpus)"
   ]
  },
  {
   "cell_type": "code",
   "execution_count": 43,
   "metadata": {
    "ExecuteTime": {
     "end_time": "2023-11-21T01:53:56.028152500Z",
     "start_time": "2023-11-21T01:53:55.954474300Z"
    }
   },
   "outputs": [
    {
     "name": "stdout",
     "output_type": "stream",
     "text": [
      "交叉验证精度 (5折): [0.55146477 0.55643564 0.55762376 0.58059406 0.54415842]\n",
      "平均交叉验证精度: 0.5580553295234512\n",
      "测试集精度: 0.5930868167202572\n"
     ]
    }
   ],
   "source": [
    "from sklearn.naive_bayes import MultinomialNB\n",
    "from sklearn.model_selection import cross_val_score\n",
    "\n",
    "# 创建多项式朴素贝叶斯分类器\n",
    "mnb = MultinomialNB(alpha=1)\n",
    "\n",
    "# 使用训练集特征和标签进行模型训练\n",
    "mnb.fit(cv_train_features, train_label_names)\n",
    "\n",
    "# 使用交叉验证计算模型精度\n",
    "mnb_bow_cv_scores = cross_val_score(mnb, cv_train_features, train_label_names, cv=5)\n",
    "mnb_bow_cv_mean_score = np.mean(mnb_bow_cv_scores)\n",
    "\n",
    "# 输出交叉验证精度\n",
    "print('交叉验证精度 (5折):', mnb_bow_cv_scores)\n",
    "print('平均交叉验证精度:', mnb_bow_cv_mean_score)\n",
    "\n",
    "# 计算并输出测试集精度\n",
    "mnb_bow_test_score = mnb.score(cv_test_features, test_label_names)\n",
    "print('测试集精度:', mnb_bow_test_score)"
   ]
  },
  {
   "cell_type": "markdown",
   "metadata": {},
   "source": [
    "<b>b.改用基于 TF-IDF 表示的新闻数据，重复 a 中实验，对比准确率"
   ]
  },
  {
   "cell_type": "code",
   "execution_count": 44,
   "metadata": {
    "ExecuteTime": {
     "end_time": "2023-11-21T01:53:56.219194100Z",
     "start_time": "2023-11-21T01:53:56.031151200Z"
    }
   },
   "outputs": [
    {
     "name": "stdout",
     "output_type": "stream",
     "text": [
      "交叉验证准确率 (5折): [0.63182898 0.63366337 0.64039604 0.64712871 0.64118812]\n",
      "平均交叉验证准确率: 0.6388410432492181\n",
      "测试集准确率: 0.65\n"
     ]
    }
   ],
   "source": [
    "from sklearn.feature_extraction.text import TfidfVectorizer\n",
    "from sklearn.naive_bayes import MultinomialNB\n",
    "from sklearn.model_selection import cross_val_score\n",
    "import numpy as np\n",
    "\n",
    "# 初始化TF-IDF向量化器\n",
    "tv = TfidfVectorizer(min_df=0.0, max_df=1.0)\n",
    "\n",
    "# 将训练集和测试集文本数据转换为TF-IDF特征表示\n",
    "tv_train_features = tv.fit_transform(train_corpus)\n",
    "tv_test_features = tv.transform(test_corpus)\n",
    "\n",
    "# 初始化多项式朴素贝叶斯分类器\n",
    "mnb = MultinomialNB(alpha=1)\n",
    "\n",
    "# 在训练集上训练分类器\n",
    "mnb.fit(tv_train_features, train_label_names)\n",
    "\n",
    "# 使用5折交叉验证计算准确率\n",
    "mnb_bow_tv_scores = cross_val_score(mnb, tv_train_features, train_label_names, cv=5)\n",
    "mnb_bow_tv_mean_score = np.mean(mnb_bow_tv_scores)\n",
    "\n",
    "# 输出交叉验证准确率和平均准确率\n",
    "print('交叉验证准确率 (5折):', mnb_bow_tv_scores)\n",
    "print('平均交叉验证准确率:', mnb_bow_tv_mean_score)\n",
    "\n",
    "# 在测试集上计算准确率并输出\n",
    "mnb_bow_test_score = mnb.score(tv_test_features, test_label_names)\n",
    "print('测试集准确率:', mnb_bow_test_score)\n"
   ]
  },
  {
   "cell_type": "markdown",
   "metadata": {},
   "source": [
    "TF-IDF的5折交叉验证的准确率比词频的低。"
   ]
  },
  {
   "cell_type": "markdown",
   "metadata": {},
   "source": [
    "<b>c.对原始数据（不进行预处理）进行 TF-IDF 表示，重复 a 中实验，对比步骤 b 的准确率，讨论预处理的作用。"
   ]
  },
  {
   "cell_type": "code",
   "execution_count": 45,
   "metadata": {
    "ExecuteTime": {
     "end_time": "2023-11-21T01:53:56.409237600Z",
     "start_time": "2023-11-21T01:53:56.221194600Z"
    }
   },
   "outputs": [
    {
     "name": "stdout",
     "output_type": "stream",
     "text": [
      "训练集特征形状: (12626, 100336)\n",
      "测试集特征形状: (6220, 100336)\n"
     ]
    }
   ],
   "source": [
    "import numpy as np\n",
    "from sklearn.model_selection import train_test_split\n",
    "from sklearn.feature_extraction.text import CountVectorizer\n",
    "\n",
    "# 提取目标标签在 8 到 13 之间的数据，并选择相关列\n",
    "data_df_org2 = data_df_org[(data_df_org['Target Label'] >= 8) & (data_df_org['Target Label'] <= 13)][['Article', 'Target Label', 'Target Name']]\n",
    "data_df_org2 = data_df_org2.sample(frac=0.3, random_state=42)  # 只提取百分之30的数据\n",
    "\n",
    "# 划分训练集和测试集\n",
    "train_corpus, test_corpus, train_label_nums, test_label_nums, train_label_names, test_label_names = train_test_split(\n",
    "    np.array(data_df['Article']), data_df['Target Label'], data_df['Target Name'], test_size=0.33, random_state=42)\n",
    "\n",
    "# 基于词频的词袋表示\n",
    "cv = CountVectorizer(min_df=0.0, max_df=1.0)\n",
    "cv_train_features = cv.fit_transform(train_corpus)\n",
    "cv_test_features = cv.transform(test_corpus)\n",
    "\n",
    "# 输出相关信息\n",
    "print('训练集特征形状:', cv_train_features.shape)\n",
    "print('测试集特征形状:', cv_test_features.shape)\n"
   ]
  },
  {
   "cell_type": "code",
   "execution_count": 46,
   "metadata": {
    "ExecuteTime": {
     "end_time": "2023-11-21T01:53:56.727112200Z",
     "start_time": "2023-11-21T01:53:56.457248200Z"
    }
   },
   "outputs": [
    {
     "name": "stdout",
     "output_type": "stream",
     "text": [
      "交叉验证准确率 (5-fold): [0.63182898 0.63366337 0.64039604 0.64712871 0.64118812]\n",
      "平均交叉验证准确率: 0.6388410432492181\n",
      "测试集准确率: 0.65\n"
     ]
    }
   ],
   "source": [
    "from sklearn.feature_extraction.text import TfidfVectorizer\n",
    "from sklearn.naive_bayes import MultinomialNB\n",
    "from sklearn.model_selection import cross_val_score\n",
    "\n",
    "# 初始化TF-IDF向量化器\n",
    "tv = TfidfVectorizer(min_df=0.0, max_df=1.0)\n",
    "\n",
    "# 将训练集和测试集文本数据转换为TF-IDF特征表示\n",
    "tv_train_features = tv.fit_transform(train_corpus)\n",
    "tv_test_features = tv.transform(test_corpus)\n",
    "\n",
    "# 初始化多项式朴素贝叶斯分类器\n",
    "mnb = MultinomialNB(alpha=1)\n",
    "\n",
    "# 在训练集上训练分类器\n",
    "mnb.fit(tv_train_features, train_label_names)\n",
    "\n",
    "# 使用5折交叉验证计算准确率\n",
    "mnb_bow_tv_scores = cross_val_score(mnb, tv_train_features, train_label_names, cv=5)\n",
    "mnb_bow_tv_mean_score = mnb_bow_tv_scores.mean()\n",
    "\n",
    "# 输出交叉验证准确率和平均准确率\n",
    "print('交叉验证准确率 (5-fold):', mnb_bow_tv_scores)\n",
    "print('平均交叉验证准确率:', mnb_bow_tv_mean_score)\n",
    "\n",
    "# 在测试集上计算准确率并输出\n",
    "mnb_bow_test_score = mnb.score(tv_test_features, test_label_names)\n",
    "print('测试集准确率:', mnb_bow_test_score)\n"
   ]
  },
  {
   "cell_type": "markdown",
   "metadata": {},
   "source": [
    "预处理可以增加准确率。"
   ]
  },
  {
   "cell_type": "markdown",
   "metadata": {},
   "source": [
    "<b>d.改变 min_df 和 max_df 这两个参数（具体含义）的值得到 TF-IDF 表示，重复 a 中实验，对比步骤 b 的准确率并讨论。"
   ]
  },
  {
   "cell_type": "code",
   "execution_count": 47,
   "metadata": {
    "ExecuteTime": {
     "end_time": "2023-11-21T01:53:57.172131200Z",
     "start_time": "2023-11-21T01:53:56.731113100Z"
    }
   },
   "outputs": [
    {
     "name": "stdout",
     "output_type": "stream",
     "text": [
      "交叉验证准确率 (5折): [0.16904196 0.17346535 0.16712871 0.17227723 0.1750495 ]\n",
      "平均交叉验证准确率: 0.17139255113159774\n",
      "测试集准确率: 0.1667202572347267\n"
     ]
    }
   ],
   "source": [
    "from sklearn.feature_extraction.text import TfidfVectorizer\n",
    "from sklearn.naive_bayes import MultinomialNB\n",
    "from sklearn.model_selection import cross_val_score\n",
    "import numpy as np\n",
    "\n",
    "# 初始化TF-IDF向量化器\n",
    "tv = TfidfVectorizer(min_df=0.2, max_df=0.9)\n",
    "\n",
    "# 将训练集和测试集文本数据转换为TF-IDF特征表示\n",
    "tv_train_features = tv.fit_transform(train_corpus)\n",
    "tv_test_features = tv.transform(test_corpus)\n",
    "\n",
    "# 初始化多项式朴素贝叶斯分类器\n",
    "mnb = MultinomialNB(alpha=1)\n",
    "\n",
    "# 在训练集上训练分类器\n",
    "mnb.fit(tv_train_features, train_label_names)\n",
    "\n",
    "# 使用5折交叉验证计算准确率\n",
    "mnb_bow_tv_scores = cross_val_score(mnb, tv_train_features, train_label_names, cv=5)\n",
    "mnb_bow_tv_mean_score = np.mean(mnb_bow_tv_scores)\n",
    "\n",
    "# 输出交叉验证准确率和平均准确率\n",
    "print('交叉验证准确率 (5折):', mnb_bow_tv_scores)\n",
    "print('平均交叉验证准确率:', mnb_bow_tv_mean_score)\n",
    "\n",
    "# 在测试集上计算准确率并输出\n",
    "mnb_bow_test_score = mnb.score(tv_test_features, test_label_names)\n",
    "print('测试集准确率:', mnb_bow_test_score)\n"
   ]
  },
  {
   "cell_type": "markdown",
   "metadata": {},
   "source": [
    "发现准确率大大下降，可能因为样本减少了。"
   ]
  },
  {
   "cell_type": "markdown",
   "metadata": {},
   "source": [
    "<b>4.不同算法有效性和时间的对比"
   ]
  },
  {
   "cell_type": "markdown",
   "metadata": {},
   "source": [
    "<b>a.基于预处理后的 TF-IDF 表示，用支持向量机对其进行分类，给出 5 折交叉验证的准确率。。"
   ]
  },
  {
   "cell_type": "code",
   "execution_count": 48,
   "metadata": {
    "ExecuteTime": {
     "end_time": "2023-11-21T01:54:03.379264400Z",
     "start_time": "2023-11-21T01:53:57.176131800Z"
    }
   },
   "outputs": [
    {
     "name": "stdout",
     "output_type": "stream",
     "text": [
      "5折交叉验证准确率: [0.74111406 0.72141151 0.73680021 0.71955426 0.70947201]\n",
      "平均准确率: 0.7256704105036691\n"
     ]
    }
   ],
   "source": [
    "from sklearn.model_selection import cross_val_score, StratifiedKFold\n",
    "from sklearn.svm import SVC\n",
    "from sklearn.feature_extraction.text import TfidfVectorizer\n",
    "\n",
    "# 初始化TF-IDF向量化器\n",
    "tfidf_vectorizer = TfidfVectorizer()\n",
    "\n",
    "# 将文本数据转换为TF-IDF特征表示\n",
    "tfidf_matrix = tfidf_vectorizer.fit_transform(data_df['Article'])\n",
    "\n",
    "# 初始化支持向量机分类器\n",
    "svm_classifier = SVC()\n",
    "\n",
    "# 使用5折交叉验证计算准确率\n",
    "cv = StratifiedKFold(n_splits=5, shuffle=True, random_state=42)\n",
    "accuracies = cross_val_score(svm_classifier, tfidf_matrix, data_df['Target Label'], cv=cv)\n",
    "\n",
    "# 打印准确率\n",
    "print(\"5折交叉验证准确率:\", accuracies)\n",
    "print(\"平均准确率:\", accuracies.mean())"
   ]
  },
  {
   "cell_type": "markdown",
   "metadata": {},
   "source": [
    "SVM可以能够处理非线性问题，且泛化性好。"
   ]
  },
  {
   "cell_type": "markdown",
   "metadata": {},
   "source": [
    "<b>b.对比朴素贝叶斯和支持向量机的训练和测试时间。综合准确率和两个时间讨论：实际应用中如何对算法进行选择。"
   ]
  },
  {
   "cell_type": "markdown",
   "metadata": {},
   "source": [
    "训练时间：朴素贝叶斯通常具有较短的训练时间，因为它假设特征之间相互独立，从而减少了参数估计的复杂度。相比之下，支持向量机在处理大型数据集时可能需要更长的训练时间，特别是在使用复杂核函数时。\n",
    "\n",
    "测试时间：在预测新样本时，朴素贝叶斯通常具有较短的测试时间，因为它只需进行简单的概率计算。而支持向量机在预测时可能需要更长的时间，特别是在高维空间中或者使用复杂核函数时。\n",
    "\n",
    "综合准确率：在选择算法时，除了训练和测试时间外，还需要考虑模型的综合准确率。朴素贝叶斯通常在处理文本分类等问题时表现良好，而支持向量机在复杂的非线性分类问题上可能表现更好。\n",
    "\n",
    "\n",
    "如果数据集较大，且对训练和预测时间有较高要求，可以倾向选择朴素贝叶斯。\n",
    "如果对模型的预测准确率有较高要求，且数据集的特征较复杂，可以倾向选择支持向量机。"
   ]
  }
 ],
 "metadata": {
  "kernelspec": {
   "display_name": "Python 3 (ipykernel)",
   "language": "python",
   "name": "python3"
  },
  "language_info": {
   "codemirror_mode": {
    "name": "ipython",
    "version": 3
   },
   "file_extension": ".py",
   "mimetype": "text/x-python",
   "name": "python",
   "nbconvert_exporter": "python",
   "pygments_lexer": "ipython3",
   "version": "3.9.13"
  }
 },
 "nbformat": 4,
 "nbformat_minor": 4
}
