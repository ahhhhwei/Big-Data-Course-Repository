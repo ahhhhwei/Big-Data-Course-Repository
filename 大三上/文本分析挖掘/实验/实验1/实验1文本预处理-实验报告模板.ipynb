{
 "cells": [
  {
   "cell_type": "markdown",
   "metadata": {},
   "source": [
    "\n",
    "<h1 align=center><font size = 5> <center>文本分析与挖掘</center> </font></h1> \n",
    "\n",
    "<h2 align=center><font size = 4><center>实验一、文本预处理和基本表示-Part 1</center></font></h2>\n",
    "<h2 align=center><font size = 2><center>浙江工业大学计算机科学与技术学院</center></font></h2>"
   ]
  },
  {
   "cell_type": "markdown",
   "metadata": {},
   "source": [
    "## 实验内容\n",
    "<div class=\"alert alert-block alert-info\" style=\"margin-top: 20px\">\n",
    "<li>英文常用预处理方法</li>\n",
    "<li>中文分词</li>\n",
    "<li>分句</li>\n"
   ]
  },
  {
   "cell_type": "markdown",
   "metadata": {},
   "source": [
    "<b> 1. 英文预处理</b>"
   ]
  },
  {
   "cell_type": "markdown",
   "metadata": {},
   "source": [
    "<b>a.编写英文预处理函数 EngPreprocess(),对输入的一个英文段落实现以下功能：分词、词干提取、词性还原、去停用词。</b>"
   ]
  },
  {
   "cell_type": "code",
   "execution_count": 9,
   "metadata": {},
   "outputs": [],
   "source": [
    "#编写函数EngPreprocess\n",
    "def EngPreprocess(input_text, tokenization=False,\n",
    "                  stemming=False, lemmatization=False,stopword_remove=False):\n",
    "    \n",
    "    #...\n",
    "    return\n"
   ]
  },
  {
   "cell_type": "markdown",
   "metadata": {},
   "source": [
    "<b>b.对比text.split()与分词结果；</b>"
   ]
  },
  {
   "cell_type": "markdown",
   "metadata": {},
   "source": [
    "用以下几个句子作为测试：\n",
    "<li>句子1：UK coronavirus cases top 600,000 as another 12,872 confirmed</li>\n",
    "<li>句子2：Global COVID-19 cases surpass 38 mln: Johns Hopkins University</li>"
   ]
  },
  {
   "cell_type": "code",
   "execution_count": null,
   "metadata": {},
   "outputs": [],
   "source": [
    "#对以上例句分别调用EngPreprocess()中的分词功能，text.split()得到结果\n",
    "#导入nltk包\n",
    "import nltk\n",
    "import numpy as np\n",
    "input_text=\"UK coronavirus cases top 600,000 as another 12,872 confirmed\"\n",
    "EngPreprocess(input_text, tokenization=True)\n",
    "input_text.split()\n",
    "...\n",
    "input_text=\"UK coronavirus cases top 600,000 as another 12,872 confirmed\"\n",
    "EngPreprocess(input_text, tokenization=True)\n",
    "input_text.split()\n",
    "..."
   ]
  },
  {
   "cell_type": "markdown",
   "metadata": {},
   "source": [
    "<div class=\"alert alert-success alertsuccess\" style=\"margin-top: 10px\">\n",
    "结果分析和讨论："
   ]
  },
  {
   "cell_type": "markdown",
   "metadata": {},
   "source": [
    "<b>c.对词干提取、词性还原、去停用词分别进行测试（用多个不同样例），观察结果并讨论准确性。</b>"
   ]
  },
  {
   "cell_type": "markdown",
   "metadata": {},
   "source": [
    "用以下样例测试词干提取功能\n",
    "<li>...</li>\n",
    "<li>...</li>"
   ]
  },
  {
   "cell_type": "code",
   "execution_count": null,
   "metadata": {},
   "outputs": [],
   "source": [
    "input_text=\"\"\n",
    "EngPreprocess(input_text, stemming=True)\n",
    "input_text=\"\"\n",
    "EngPreprocess(input_text, stemming=True)"
   ]
  },
  {
   "cell_type": "markdown",
   "metadata": {},
   "source": [
    "<div class=\"alert alert-success alertsuccess\" style=\"margin-top: 10px\">\n",
    "结果分析和讨论："
   ]
  },
  {
   "cell_type": "markdown",
   "metadata": {},
   "source": [
    "用以下样例测试词性还原功能\n",
    "<li>...</li>\n",
    "<li>...</li>"
   ]
  },
  {
   "cell_type": "code",
   "execution_count": null,
   "metadata": {},
   "outputs": [],
   "source": [
    "input_text=\"\"\n",
    "EngPreprocess(input_text, lemmatization=True)\n",
    "input_text=\"\"\n",
    "EngPreprocess(input_text, lemmatization=True)"
   ]
  },
  {
   "cell_type": "markdown",
   "metadata": {},
   "source": [
    "<div class=\"alert alert-success alertsuccess\" style=\"margin-top: 10px\">\n",
    "结果分析和讨论："
   ]
  },
  {
   "cell_type": "markdown",
   "metadata": {},
   "source": [
    "用以下样例测试去停用词功能\n",
    "<li>...</li>\n",
    "<li>...</li>"
   ]
  },
  {
   "cell_type": "code",
   "execution_count": null,
   "metadata": {},
   "outputs": [],
   "source": [
    "input_text=\"\"\n",
    "EngPreprocess(input_text,stopword_remove=True)\n",
    "input_text=\"\"\n",
    "EngPreprocess(input_text, stopword_remove=True)"
   ]
  },
  {
   "cell_type": "markdown",
   "metadata": {},
   "source": [
    "<div class=\"alert alert-success alertsuccess\" style=\"margin-top: 10px\">\n",
    "结果分析和讨论："
   ]
  },
  {
   "cell_type": "markdown",
   "metadata": {},
   "source": [
    "<b> 2. 中文分词</b>"
   ]
  },
  {
   "cell_type": "markdown",
   "metadata": {},
   "source": [
    "参考上面格式完成后面题目。最后保存并在规定时间内上传到学习通。"
   ]
  },
  {
   "cell_type": "markdown",
   "metadata": {},
   "source": []
  }
 ],
 "metadata": {
  "kernelspec": {
   "display_name": "Python 3",
   "language": "python",
   "name": "python3"
  },
  "language_info": {
   "codemirror_mode": {
    "name": "ipython",
    "version": 3
   },
   "file_extension": ".py",
   "mimetype": "text/x-python",
   "name": "python",
   "nbconvert_exporter": "python",
   "pygments_lexer": "ipython3",
   "version": "3.7.4"
  }
 },
 "nbformat": 4,
 "nbformat_minor": 4
}
